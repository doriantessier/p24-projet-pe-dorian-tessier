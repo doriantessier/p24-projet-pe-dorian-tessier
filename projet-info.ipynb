{
 "cells": [
  {
   "cell_type": "markdown",
   "id": "e414888c-8a1a-4677-a94c-c812da11d966",
   "metadata": {},
   "source": [
    "Projet info"
   ]
  },
  {
   "cell_type": "code",
   "execution_count": null,
   "id": "fafbac4f-5cb3-44ad-b9ef-fe6ddaf51f0d",
   "metadata": {},
   "outputs": [],
   "source": []
  }
 ],
 "metadata": {
  "kernelspec": {
   "display_name": "Python 3 (ipykernel)",
   "language": "python",
   "name": "python3"
  },
  "language_info": {
   "codemirror_mode": {
    "name": "ipython",
    "version": 3
   },
   "file_extension": ".py",
   "mimetype": "text/x-python",
   "name": "python",
   "nbconvert_exporter": "python",
   "pygments_lexer": "ipython3",
   "version": "3.12.4"
  }
 },
 "nbformat": 4,
 "nbformat_minor": 5
}
